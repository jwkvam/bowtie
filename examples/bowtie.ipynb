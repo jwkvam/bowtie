{
 "cells": [
  {
   "cell_type": "code",
   "execution_count": 1,
   "metadata": {},
   "outputs": [],
   "source": [
    "%load_ext bowtie"
   ]
  },
  {
   "cell_type": "code",
   "execution_count": 2,
   "metadata": {},
   "outputs": [],
   "source": [
    "from bowtie import App\n",
    "from bowtie.visual import Plotly\n",
    "from bowtie.control import Button\n",
    "import plotlywrapper as pw\n",
    "import numpy as np\n",
    "\n",
    "app = App()\n",
    "button = Button(label='Plot Sine')\n",
    "plot = Plotly()\n",
    "app.add_sidebar(button)\n",
    "app.add(plot)\n",
    "\n",
    "@app.listen(button.on_click)\n",
    "def clicked():\n",
    "    plot.do_all(pw.line(np.sin(np.linspace(0, 10, 1000))).dict)"
   ]
  },
  {
   "cell_type": "code",
   "execution_count": 3,
   "metadata": {},
   "outputs": [
    {
     "data": {
      "text/html": [
       "<iframe src=http://localhost:9991 width=1024 height=768 frameBorder=2></iframe>"
      ],
      "text/plain": [
       "<IPython.core.display.HTML object>"
      ]
     },
     "metadata": {},
     "output_type": "display_data"
    }
   ],
   "source": [
    "%bowtie -w 1024 -h 768 app"
   ]
  },
  {
   "cell_type": "code",
   "execution_count": 4,
   "metadata": {},
   "outputs": [
    {
     "name": "stdout",
     "output_type": "stream",
     "text": [
      "Terminating Bowtie app.\n",
      "Successfully stopped Bowtie app.\n"
     ]
    }
   ],
   "source": [
    "%bowtie_stop"
   ]
  }
 ],
 "metadata": {
  "kernelspec": {
   "display_name": "Python [conda root]",
   "language": "python",
   "name": "conda-root-py"
  },
  "language_info": {
   "codemirror_mode": {
    "name": "ipython",
    "version": 3
   },
   "file_extension": ".py",
   "mimetype": "text/x-python",
   "name": "python",
   "nbconvert_exporter": "python",
   "pygments_lexer": "ipython3",
   "version": "3.6.4"
  }
 },
 "nbformat": 4,
 "nbformat_minor": 2
}
